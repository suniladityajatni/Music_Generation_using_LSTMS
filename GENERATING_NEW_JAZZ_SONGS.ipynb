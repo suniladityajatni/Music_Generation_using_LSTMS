{
 "cells": [
  {
   "cell_type": "code",
   "execution_count": 1,
   "metadata": {},
   "outputs": [],
   "source": [
    "from pickle import load\n",
    "from keras.models import load_model\n",
    "from tensorflow.keras.utils import to_categorical\n",
    "import pickle"
   ]
  },
  {
   "cell_type": "markdown",
   "metadata": {},
   "source": [
    "LOADING ALL THE PROCESSED FILES AND MODEL FOR GENERATION OF MUSIC"
   ]
  },
  {
   "cell_type": "code",
   "execution_count": 2,
   "metadata": {},
   "outputs": [],
   "source": [
    "model = load_model('model_music_generation_using_LSTMS_2.h5')\n",
    "char_to_ix = load(open('char_to_ix_music_generation_using_LSTMS.pkl', 'rb'))\n",
    "ix_to_char=load(open('ix_to_char_music_generation_using_LSTMS.pkl', 'rb'))"
   ]
  },
  {
   "cell_type": "code",
   "execution_count": 3,
   "metadata": {},
   "outputs": [],
   "source": [
    "file='my_new_notes_27_07_2021.pkl'\n",
    "fileobj=open(file,'rb')\n",
    "data=pickle.load(fileobj)\n",
    "data=data[:100000]"
   ]
  },
  {
   "cell_type": "code",
   "execution_count": 4,
   "metadata": {},
   "outputs": [
    {
     "name": "stdout",
     "output_type": "stream",
     "text": [
      "The size of data is \n",
      "100000\n",
      "Vocab size\n",
      "416\n"
     ]
    }
   ],
   "source": [
    "characters=list(set(data))\n",
    "data_size,vocab_size=len(data),len(characters)\n",
    "print(\"The size of data is \")\n",
    "print(data_size)\n",
    "print(\"Vocab size\")\n",
    "print(vocab_size)"
   ]
  },
  {
   "cell_type": "markdown",
   "metadata": {},
   "source": [
    "GENERTAING RANDOM NUMBERS TO START NEW MUSIC!!!!"
   ]
  },
  {
   "cell_type": "code",
   "execution_count": 5,
   "metadata": {},
   "outputs": [],
   "source": [
    "import numpy as np"
   ]
  },
  {
   "cell_type": "code",
   "execution_count": 33,
   "metadata": {},
   "outputs": [],
   "source": [
    "pass"
   ]
  },
  {
   "cell_type": "code",
   "execution_count": 29,
   "metadata": {},
   "outputs": [],
   "source": [
    "testinput=np.random.randint(0,vocab_size,(1,100))"
   ]
  },
  {
   "cell_type": "code",
   "execution_count": 34,
   "metadata": {},
   "outputs": [],
   "source": [
    "pass"
   ]
  },
  {
   "cell_type": "code",
   "execution_count": 30,
   "metadata": {},
   "outputs": [
    {
     "name": "stdout",
     "output_type": "stream",
     "text": [
      "[307 391 113 378 297 235  72 262 325 178  73 248 282 384 260 412 400 413\n",
      " 356 292 142 261 405 132 211   8 277  93 269  32 223 122  41 299 136 225\n",
      " 318 183 262 263 128 236 177 394  42  54 112 243 381 254 104 196 391 257\n",
      "  72 374 288 174  46 248  15 192 358 371 192 369 340  90 405 131 160 340\n",
      "  71 201 384 399 407 191 304 315 143 310 275 230 350 162 261 239 252 378\n",
      " 301 113  80 173 116 260 214 179 378  97]\n"
     ]
    }
   ],
   "source": [
    "t=testinput\n",
    "testinput=[]\n",
    "for i in t:\n",
    "    print(i)\n",
    "    for j in i:\n",
    "        testinput.append(j)"
   ]
  },
  {
   "cell_type": "code",
   "execution_count": 31,
   "metadata": {},
   "outputs": [],
   "source": [
    "testinput\n",
    "finaloutput=[]\n",
    "for i in testinput:\n",
    "    finaloutput.append(ix_to_char[i]) #final output will be cnverted back to midi file"
   ]
  },
  {
   "cell_type": "code",
   "execution_count": 35,
   "metadata": {},
   "outputs": [],
   "source": [
    "pass"
   ]
  },
  {
   "cell_type": "code",
   "execution_count": 15,
   "metadata": {},
   "outputs": [
    {
     "data": {
      "text/plain": [
       "100"
      ]
     },
     "execution_count": 15,
     "metadata": {},
     "output_type": "execute_result"
    }
   ],
   "source": [
    "len(testinput)"
   ]
  },
  {
   "cell_type": "code",
   "execution_count": 16,
   "metadata": {},
   "outputs": [],
   "source": [
    "c=0\n",
    "#generating next 10000 notes based on starting 100 notes\n",
    "while c<10000: \n",
    "    c+=1;\n",
    "#     test=[[to_categorical(i,num_classes=vocab_size) for i in testinput]]\n",
    "    test=[testinput]\n",
    "    test=np.array(test)\n",
    "    yhat=model.predict(test,verbose=0)\n",
    "    \n",
    "    #smapling the next note from give probability distribution as gien by model\n",
    "    yhat=np.random.choice(range(len(yhat[0])), p =  np. ravel(yhat[0])) \n",
    "    #converting the integer back to english note\n",
    "    yhat=ix_to_char[yhat]\n",
    "    if yhat=='[end]':\n",
    "        break\n",
    "    #to append the new note we need to remove the first note as input sequence size to the model should be always 10\n",
    "    testinput=testinput[1:]\n",
    "    testinput.append(char_to_ix[yhat])\n",
    "    #appending the predicted value to finaloutput\n",
    "    finaloutput.append(yhat)"
   ]
  },
  {
   "cell_type": "code",
   "execution_count": null,
   "metadata": {},
   "outputs": [],
   "source": []
  },
  {
   "cell_type": "code",
   "execution_count": null,
   "metadata": {},
   "outputs": [],
   "source": []
  },
  {
   "cell_type": "markdown",
   "metadata": {},
   "source": [
    "CONVERTING THE FINAL OUTPUT TO MIDI FILE"
   ]
  },
  {
   "cell_type": "code",
   "execution_count": 17,
   "metadata": {},
   "outputs": [],
   "source": [
    "from music21 import instrument, note, stream, chord"
   ]
  },
  {
   "cell_type": "code",
   "execution_count": 60,
   "metadata": {},
   "outputs": [],
   "source": [
    "def create_midi(prediction_output):\n",
    "    \"\"\" convert the output from the prediction to notes and create a midi file\n",
    "        from the notes \"\"\"\n",
    "    offset = 0\n",
    "    output_notes = []\n",
    "\n",
    "    # create note and chord objects based on the values generated by the model\n",
    "    for pattern in prediction_output:\n",
    "        # pattern is a chord\n",
    "        if ('.' in pattern) or pattern.isdigit():\n",
    "            notes_in_chord = pattern.split('.')\n",
    "            notes = []\n",
    "            for current_note in notes_in_chord:\n",
    "                new_note = note.Note(int(current_note))\n",
    "                new_note.storedInstrument = instrument.Piano()\n",
    "                notes.append(new_note)\n",
    "            new_chord = chord.Chord(notes)\n",
    "            new_chord.offset = offset\n",
    "            output_notes.append(new_chord)\n",
    "        # pattern is a note\n",
    "        else:\n",
    "            new_note = note.Note(pattern)\n",
    "            new_note.offset = offset\n",
    "            new_note.storedInstrument = instrument.Piano()\n",
    "            output_notes.append(new_note)\n",
    "\n",
    "        # increase offset each iteration so that notes do not stack\n",
    "        offset += 0.5\n",
    "\n",
    "    midi_stream = stream.Stream(output_notes)\n",
    "\n",
    "    midi_stream.write('midi', fp='test_output_08_08_2021_3.mid')\n"
   ]
  },
  {
   "cell_type": "code",
   "execution_count": 19,
   "metadata": {},
   "outputs": [],
   "source": [
    "create_midi(finaloutput)"
   ]
  },
  {
   "cell_type": "code",
   "execution_count": null,
   "metadata": {},
   "outputs": [],
   "source": []
  },
  {
   "cell_type": "code",
   "execution_count": 48,
   "metadata": {},
   "outputs": [],
   "source": [
    "# ju=data[:100]"
   ]
  },
  {
   "cell_type": "code",
   "execution_count": 49,
   "metadata": {},
   "outputs": [],
   "source": [
    "# finalout"
   ]
  },
  {
   "cell_type": "code",
   "execution_count": 50,
   "metadata": {},
   "outputs": [],
   "source": [
    "# testinput=[char_to_ix[i] for i in ju]"
   ]
  },
  {
   "cell_type": "code",
   "execution_count": 51,
   "metadata": {},
   "outputs": [],
   "source": [
    "# testinput\n",
    "# finaloutput=[]\n",
    "# for i in testinput:\n",
    "#     finaloutput.append(ix_to_char[i]) #final output will be cnverted back to midi file"
   ]
  },
  {
   "cell_type": "code",
   "execution_count": 52,
   "metadata": {},
   "outputs": [],
   "source": [
    "# c=0\n",
    "# #generating next 10000 notes based on starting 100 notes\n",
    "# while c<10000: \n",
    "#     c+=1;\n",
    "# #     test=[[to_categorical(i,num_classes=vocab_size) for i in testinput]]\n",
    "#     test=[testinput]\n",
    "#     test=np.array(test)\n",
    "#     yhat=model.predict(test,verbose=0)\n",
    "    \n",
    "#     #smapling the next note from give probability distribution as gien by model\n",
    "#     yhat=np.argmax(yhat,axis=-1)[0]\n",
    "# #     yhat=np.random.choice(range(len(yhat[0])), p =  np. ravel(yhat[0])) \n",
    "#     #converting the integer back to english note\n",
    "#     yhat=ix_to_char[yhat]\n",
    "#     if yhat=='[end]':\n",
    "#         break\n",
    "#     #to append the new note we need to remove the first note as input sequence size to the model should be always 10\n",
    "#     testinput=testinput[1:]\n",
    "#     testinput.append(char_to_ix[yhat])\n",
    "#     #appending the predicted value to finaloutput\n",
    "#     finaloutput.append(yhat)"
   ]
  },
  {
   "cell_type": "code",
   "execution_count": 53,
   "metadata": {},
   "outputs": [],
   "source": [
    "# create_midi(finaloutput)"
   ]
  },
  {
   "cell_type": "code",
   "execution_count": 58,
   "metadata": {},
   "outputs": [],
   "source": [
    "# cheg=data[:1190]"
   ]
  },
  {
   "cell_type": "code",
   "execution_count": 59,
   "metadata": {},
   "outputs": [],
   "source": [
    "# for i in range(len(cheg)):\n",
    "#     if cheg[i]=='[end]':\n",
    "#         print(i)\n",
    "#         break"
   ]
  },
  {
   "cell_type": "code",
   "execution_count": 61,
   "metadata": {},
   "outputs": [],
   "source": [
    "# create_midi(cheg)"
   ]
  },
  {
   "cell_type": "code",
   "execution_count": null,
   "metadata": {},
   "outputs": [],
   "source": []
  },
  {
   "cell_type": "code",
   "execution_count": null,
   "metadata": {},
   "outputs": [],
   "source": []
  },
  {
   "cell_type": "code",
   "execution_count": null,
   "metadata": {},
   "outputs": [],
   "source": []
  }
 ],
 "metadata": {
  "kernelspec": {
   "display_name": "Python 3",
   "language": "python",
   "name": "python3"
  },
  "language_info": {
   "codemirror_mode": {
    "name": "ipython",
    "version": 3
   },
   "file_extension": ".py",
   "mimetype": "text/x-python",
   "name": "python",
   "nbconvert_exporter": "python",
   "pygments_lexer": "ipython3",
   "version": "3.8.8"
  }
 },
 "nbformat": 4,
 "nbformat_minor": 4
}
