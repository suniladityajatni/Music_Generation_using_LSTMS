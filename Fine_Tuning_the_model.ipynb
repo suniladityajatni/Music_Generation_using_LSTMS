{
  "nbformat": 4,
  "nbformat_minor": 0,
  "metadata": {
    "colab": {
      "name": "Fine_Tuning_the_model.ipynb",
      "provenance": [],
      "collapsed_sections": []
    },
    "kernelspec": {
      "name": "python3",
      "display_name": "Python 3"
    },
    "language_info": {
      "name": "python"
    }
  },
  "cells": [
    {
      "cell_type": "code",
      "metadata": {
        "colab": {
          "base_uri": "https://localhost:8080/"
        },
        "id": "Jz5Xm2vuzrGZ",
        "outputId": "f4819bb5-99ee-4b80-87ed-54bbb3e22828"
      },
      "source": [
        "from google.colab import drive\n",
        "drive.mount('/content/drive')"
      ],
      "execution_count": null,
      "outputs": [
        {
          "output_type": "stream",
          "text": [
            "Mounted at /content/drive\n"
          ],
          "name": "stdout"
        }
      ]
    },
    {
      "cell_type": "code",
      "metadata": {
        "id": "cDWBApDwztYu"
      },
      "source": [
        "import tensorflow as tf\n",
        "import pickle"
      ],
      "execution_count": null,
      "outputs": []
    },
    {
      "cell_type": "code",
      "metadata": {
        "id": "d6NUs5XVz5p-"
      },
      "source": [
        "model=tf.keras.models.load_model('/content/drive/MyDrive/model_music_generation_using_LSTMS.h5')\n",
        "sequences=pickle.load(open('/content/drive/MyDrive/sequences_music_generation_using_LSTMS.pkl','rb'))\n",
        "outputsequences=pickle.load(open('/content/drive/MyDrive/outputsequeces_music_generation_using_LSTMS.pkl','rb'))\n",
        "char_to_ix=pickle.load(open('/content/drive/MyDrive/char_to_ix_music_generation_using_LSTMS.pkl','rb'))\n",
        "ix_to_char=pickle.load(open('/content/drive/MyDrive/ix_to_char_music_generation_using_LSTMS.pkl','rb'))"
      ],
      "execution_count": null,
      "outputs": []
    },
    {
      "cell_type": "code",
      "metadata": {
        "colab": {
          "base_uri": "https://localhost:8080/"
        },
        "id": "vP51c7HV0qZw",
        "outputId": "2a8c8461-922b-4d71-b919-b15ec1ede5a7"
      },
      "source": [
        "# model.compile(loss='sparse_categorical_crossentropy',optimizer='adam',metrics=['accuracy'])\n",
        "model.fit(sequences,outputsequences,epochs=3)"
      ],
      "execution_count": null,
      "outputs": [
        {
          "output_type": "stream",
          "text": [
            "Epoch 1/3\n",
            "3122/3122 [==============================] - 74s 21ms/step - loss: 0.7454 - accuracy: 0.7858\n",
            "Epoch 2/3\n",
            "3122/3122 [==============================] - 65s 21ms/step - loss: 0.7105 - accuracy: 0.7951\n",
            "Epoch 3/3\n",
            "3122/3122 [==============================] - 65s 21ms/step - loss: 0.6762 - accuracy: 0.8052\n"
          ],
          "name": "stdout"
        },
        {
          "output_type": "execute_result",
          "data": {
            "text/plain": [
              "<tensorflow.python.keras.callbacks.History at 0x7f54824c1050>"
            ]
          },
          "metadata": {
            "tags": []
          },
          "execution_count": 4
        }
      ]
    },
    {
      "cell_type": "code",
      "metadata": {
        "colab": {
          "base_uri": "https://localhost:8080/"
        },
        "id": "zuLP8fzu1zcG",
        "outputId": "cc0e9967-ef93-421a-e820-756d0ef70958"
      },
      "source": [
        "# model.compile(loss='sparse_categorical_crossentropy',optimizer='adam',metrics=['accuracy'])\n",
        "model.fit(sequences,outputsequences,epochs=3)"
      ],
      "execution_count": null,
      "outputs": [
        {
          "output_type": "stream",
          "text": [
            "Epoch 1/3\n",
            "3122/3122 [==============================] - 65s 21ms/step - loss: 0.6471 - accuracy: 0.8131\n",
            "Epoch 2/3\n",
            "3122/3122 [==============================] - 64s 21ms/step - loss: 0.6177 - accuracy: 0.8226\n",
            "Epoch 3/3\n",
            "3122/3122 [==============================] - 65s 21ms/step - loss: 0.5900 - accuracy: 0.8299\n"
          ],
          "name": "stdout"
        },
        {
          "output_type": "execute_result",
          "data": {
            "text/plain": [
              "<tensorflow.python.keras.callbacks.History at 0x7f53e9fe2c50>"
            ]
          },
          "metadata": {
            "tags": []
          },
          "execution_count": 5
        }
      ]
    },
    {
      "cell_type": "code",
      "metadata": {
        "colab": {
          "base_uri": "https://localhost:8080/"
        },
        "id": "4JkVHhO11zZ0",
        "outputId": "ff707481-fe0b-47dc-e6ed-bedc08eae013"
      },
      "source": [
        "# model.compile(loss='sparse_categorical_crossentropy',optimizer='adam',metrics=['accuracy'])\n",
        "model.fit(sequences,outputsequences,epochs=3)"
      ],
      "execution_count": null,
      "outputs": [
        {
          "output_type": "stream",
          "text": [
            "Epoch 1/3\n",
            "3122/3122 [==============================] - 65s 21ms/step - loss: 0.5640 - accuracy: 0.8367\n",
            "Epoch 2/3\n",
            "3122/3122 [==============================] - 64s 21ms/step - loss: 0.5420 - accuracy: 0.8421\n",
            "Epoch 3/3\n",
            "3122/3122 [==============================] - 64s 20ms/step - loss: 0.5154 - accuracy: 0.8490\n"
          ],
          "name": "stdout"
        },
        {
          "output_type": "execute_result",
          "data": {
            "text/plain": [
              "<tensorflow.python.keras.callbacks.History at 0x7f53e9f5dcd0>"
            ]
          },
          "metadata": {
            "tags": []
          },
          "execution_count": 6
        }
      ]
    },
    {
      "cell_type": "code",
      "metadata": {
        "colab": {
          "base_uri": "https://localhost:8080/"
        },
        "id": "_1N5GiMP1zXX",
        "outputId": "70bf47c9-4e0e-4df2-8d71-a46fc72271e0"
      },
      "source": [
        "# model.compile(loss='sparse_categorical_crossentropy',optimizer='adam',metrics=['accuracy'])\n",
        "model.fit(sequences,outputsequences,epochs=3)"
      ],
      "execution_count": null,
      "outputs": [
        {
          "output_type": "stream",
          "text": [
            "Epoch 1/3\n",
            "3122/3122 [==============================] - 64s 20ms/step - loss: 0.4929 - accuracy: 0.8559\n",
            "Epoch 2/3\n",
            "3122/3122 [==============================] - 62s 20ms/step - loss: 0.4736 - accuracy: 0.8610\n",
            "Epoch 3/3\n",
            "3122/3122 [==============================] - 64s 20ms/step - loss: 0.4552 - accuracy: 0.8662\n"
          ],
          "name": "stdout"
        },
        {
          "output_type": "execute_result",
          "data": {
            "text/plain": [
              "<tensorflow.python.keras.callbacks.History at 0x7f53e9ff5f10>"
            ]
          },
          "metadata": {
            "tags": []
          },
          "execution_count": 7
        }
      ]
    },
    {
      "cell_type": "code",
      "metadata": {
        "colab": {
          "base_uri": "https://localhost:8080/"
        },
        "id": "dxnHZiAW3-2z",
        "outputId": "35302a92-1dab-4a5f-fb45-ab383df27028"
      },
      "source": [
        "# model.compile(loss='sparse_categorical_crossentropy',optimizer='adam',metrics=['accuracy'])\n",
        "model.fit(sequences,outputsequences,epochs=3)"
      ],
      "execution_count": null,
      "outputs": [
        {
          "output_type": "stream",
          "text": [
            "Epoch 1/3\n",
            "3122/3122 [==============================] - 63s 20ms/step - loss: 0.4365 - accuracy: 0.8735\n",
            "Epoch 2/3\n",
            "3122/3122 [==============================] - 63s 20ms/step - loss: 0.4153 - accuracy: 0.8786\n",
            "Epoch 3/3\n",
            "3122/3122 [==============================] - 63s 20ms/step - loss: 0.4038 - accuracy: 0.8818\n"
          ],
          "name": "stdout"
        },
        {
          "output_type": "execute_result",
          "data": {
            "text/plain": [
              "<tensorflow.python.keras.callbacks.History at 0x7f5430333890>"
            ]
          },
          "metadata": {
            "tags": []
          },
          "execution_count": 8
        }
      ]
    },
    {
      "cell_type": "code",
      "metadata": {
        "colab": {
          "base_uri": "https://localhost:8080/"
        },
        "id": "_ASg7gP33-0K",
        "outputId": "28402a5b-eee0-4f59-bfc3-9ea7a482b28d"
      },
      "source": [
        "# model.compile(loss='sparse_categorical_crossentropy',optimizer='adam',metrics=['accuracy'])\n",
        "model.fit(sequences,outputsequences,epochs=5)"
      ],
      "execution_count": null,
      "outputs": [
        {
          "output_type": "stream",
          "text": [
            "Epoch 1/5\n",
            "3122/3122 [==============================] - 63s 20ms/step - loss: 0.3863 - accuracy: 0.8855\n",
            "Epoch 2/5\n",
            "3122/3122 [==============================] - 63s 20ms/step - loss: 0.3685 - accuracy: 0.8923\n",
            "Epoch 3/5\n",
            "3122/3122 [==============================] - 63s 20ms/step - loss: 0.3562 - accuracy: 0.8952\n",
            "Epoch 4/5\n",
            "3122/3122 [==============================] - 64s 20ms/step - loss: 0.3480 - accuracy: 0.8979\n",
            "Epoch 5/5\n",
            "3122/3122 [==============================] - 63s 20ms/step - loss: 0.3278 - accuracy: 0.9038\n"
          ],
          "name": "stdout"
        },
        {
          "output_type": "execute_result",
          "data": {
            "text/plain": [
              "<tensorflow.python.keras.callbacks.History at 0x7f53e9f16c10>"
            ]
          },
          "metadata": {
            "tags": []
          },
          "execution_count": 9
        }
      ]
    },
    {
      "cell_type": "code",
      "metadata": {
        "colab": {
          "base_uri": "https://localhost:8080/"
        },
        "id": "HcRF0Sb13-wV",
        "outputId": "0199b512-706d-45e8-c744-701342d23b43"
      },
      "source": [
        "# model.compile(loss='sparse_categorical_crossentropy',optimizer='adam',metrics=['accuracy'])\n",
        "model.fit(sequences,outputsequences,epochs=5)"
      ],
      "execution_count": null,
      "outputs": [
        {
          "output_type": "stream",
          "text": [
            "Epoch 1/5\n",
            "3122/3122 [==============================] - 63s 20ms/step - loss: 0.3192 - accuracy: 0.9052\n",
            "Epoch 2/5\n",
            "3122/3122 [==============================] - 62s 20ms/step - loss: 0.3090 - accuracy: 0.9094\n",
            "Epoch 3/5\n",
            "3122/3122 [==============================] - 62s 20ms/step - loss: 0.2982 - accuracy: 0.9115\n",
            "Epoch 4/5\n",
            "3122/3122 [==============================] - 59s 19ms/step - loss: 0.2968 - accuracy: 0.9122\n",
            "Epoch 5/5\n",
            "3122/3122 [==============================] - 59s 19ms/step - loss: 0.2803 - accuracy: 0.9162\n"
          ],
          "name": "stdout"
        },
        {
          "output_type": "execute_result",
          "data": {
            "text/plain": [
              "<tensorflow.python.keras.callbacks.History at 0x7f53e9eccc10>"
            ]
          },
          "metadata": {
            "tags": []
          },
          "execution_count": 10
        }
      ]
    },
    {
      "cell_type": "code",
      "metadata": {
        "colab": {
          "base_uri": "https://localhost:8080/"
        },
        "id": "g6WrCdy13-uN",
        "outputId": "3bb006e8-24f9-49c5-dcf0-fa984efc0a05"
      },
      "source": [
        "# model.compile(loss='sparse_categorical_crossentropy',optimizer='adam',metrics=['accuracy'])\n",
        "model.fit(sequences,outputsequences,epochs=5)"
      ],
      "execution_count": null,
      "outputs": [
        {
          "output_type": "stream",
          "text": [
            "Epoch 1/5\n",
            "3122/3122 [==============================] - 59s 19ms/step - loss: 0.2766 - accuracy: 0.9183\n",
            "Epoch 2/5\n",
            "3122/3122 [==============================] - 59s 19ms/step - loss: 0.2629 - accuracy: 0.9210\n",
            "Epoch 3/5\n",
            "3122/3122 [==============================] - 60s 19ms/step - loss: 0.2579 - accuracy: 0.9238\n",
            "Epoch 4/5\n",
            "3122/3122 [==============================] - 60s 19ms/step - loss: 0.2472 - accuracy: 0.9261\n",
            "Epoch 5/5\n",
            "3122/3122 [==============================] - 59s 19ms/step - loss: 0.2459 - accuracy: 0.9261\n"
          ],
          "name": "stdout"
        },
        {
          "output_type": "execute_result",
          "data": {
            "text/plain": [
              "<tensorflow.python.keras.callbacks.History at 0x7f53e9ef9450>"
            ]
          },
          "metadata": {
            "tags": []
          },
          "execution_count": 11
        }
      ]
    },
    {
      "cell_type": "code",
      "metadata": {
        "id": "wStiLIdA0wtP"
      },
      "source": [
        "model.save('model_music_generation_using_LSTMS_2.h5')"
      ],
      "execution_count": null,
      "outputs": []
    },
    {
      "cell_type": "code",
      "metadata": {
        "id": "Qrbtk-8VDc8P"
      },
      "source": [
        ""
      ],
      "execution_count": null,
      "outputs": []
    }
  ]
}